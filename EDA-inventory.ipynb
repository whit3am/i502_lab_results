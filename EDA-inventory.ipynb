{
 "cells": [
  {
   "cell_type": "code",
   "execution_count": 1,
   "id": "544ffc78",
   "metadata": {},
   "outputs": [],
   "source": [
    "import pprint\n",
    "import numpy as np\n",
    "import pandas as pd\n",
    "import matplotlib.pyplot as plt\n",
    "import pyspark as ps\n",
    "from pyspark.sql.functions import col, udf\n",
    "from pyspark.sql.types import StringType\n",
    "\n",
    "plt.style.use('ggplot')\n",
    "\n",
    "spark = (ps.sql.SparkSession.builder\n",
    "            .master('local[4]')\n",
    "            .appName('sparkSQL')\n",
    "            .getOrCreate())\n",
    "\n",
    "sc = spark.sparkContext"
   ]
  },
  {
   "cell_type": "code",
   "execution_count": 9,
   "id": "5efdbaf3",
   "metadata": {},
   "outputs": [],
   "source": [
    "df = spark.read.options(header='true', inferSchema='true', sep='\\t', encoding='UTF-16') \\\n",
    "          .csv('/media/austin/Ubuntu-2/postgres_i502/raw_data/I502/Inventories_0.csv')"
   ]
  },
  {
   "cell_type": "code",
   "execution_count": 10,
   "id": "456e550c",
   "metadata": {},
   "outputs": [
    {
     "name": "stdout",
     "output_type": "stream",
     "text": [
      "root\n",
      " |-- global_id: string (nullable = true)\n",
      " |-- created_at: timestamp (nullable = true)\n",
      " |-- updated_at: timestamp (nullable = true)\n",
      " |-- mme_id: string (nullable = true)\n",
      " |-- user_id: string (nullable = true)\n",
      " |-- external_id: string (nullable = true)\n",
      " |-- area_id: string (nullable = true)\n",
      " |-- batch_id: string (nullable = true)\n",
      " |-- lab_result_id: string (nullable = true)\n",
      " |-- lab_retest_id: string (nullable = true)\n",
      " |-- is_initial_inventory: boolean (nullable = true)\n",
      " |-- inventory_created_at: timestamp (nullable = true)\n",
      " |-- inventory_packaged_at: timestamp (nullable = true)\n",
      " |-- created_by_mme_id: string (nullable = true)\n",
      " |-- qty: double (nullable = true)\n",
      " |-- uom: string (nullable = true)\n",
      " |-- strain_id: string (nullable = true)\n",
      " |-- inventory_type_id: string (nullable = true)\n",
      " |-- additives: string (nullable = true)\n",
      " |-- serving_num: integer (nullable = true)\n",
      " |-- sent_for_testing: boolean (nullable = true)\n",
      " |-- deleted_at: timestamp (nullable = true)\n",
      " |-- medically_compliant: integer (nullable = true)\n",
      " |-- legacy_id: string (nullable = true)\n",
      " |-- lab_results_attested: string (nullable = true)\n",
      " |-- lab_results_date: string (nullable = true)\n",
      " |-- global_original_id: string (nullable = true)\n",
      "\n",
      "None\n"
     ]
    }
   ],
   "source": [
    "print(df.printSchema())"
   ]
  },
  {
   "cell_type": "code",
   "execution_count": 11,
   "id": "e6642063",
   "metadata": {},
   "outputs": [],
   "source": [
    "# remove \"�\" from dataset. Pandas read this in fine, but pyspark will not.\n",
    "df = df.filter(~col(df.columns[0]).like(\"%�%\"))\n",
    "remove_last_char_in_str = udf(lambda x: x[:-1], StringType())\n",
    "df = (df.withColumn(df.columns[-1], remove_last_char_in_str(df.columns[-1])));"
   ]
  },
  {
   "cell_type": "code",
   "execution_count": 12,
   "id": "45b1b34b",
   "metadata": {},
   "outputs": [],
   "source": [
    "df.createOrReplaceTempView('inventory')"
   ]
  },
  {
   "cell_type": "code",
   "execution_count": 13,
   "id": "0e83838c",
   "metadata": {},
   "outputs": [
    {
     "data": {
      "text/plain": [
       "Row(global_id='WAJ412598.IN1', created_at=datetime.datetime(2018, 1, 31, 17, 24, 32), updated_at=datetime.datetime(2018, 2, 28, 1, 13, 28), mme_id='WAWA1.MMDJ', user_id='WAWA1.USAM', external_id=None, area_id='WAJ412598.AR3', batch_id='WAJ412598.BA1', lab_result_id=None, lab_retest_id=None, is_initial_inventory=False, inventory_created_at=datetime.datetime(1900, 1, 1, 0, 0), inventory_packaged_at=datetime.datetime(1900, 1, 1, 0, 0), created_by_mme_id=None, qty=0.0, uom='ea', strain_id='WAJ412598.STX', inventory_type_id='WAJ412598.TY1S', additives=None, serving_num=None, sent_for_testing=False, deleted_at=None, medically_compliant=None, legacy_id=None, lab_results_attested='0', lab_results_date=None, global_original_id='')"
      ]
     },
     "execution_count": 13,
     "metadata": {},
     "output_type": "execute_result"
    }
   ],
   "source": [
    "df.first()"
   ]
  },
  {
   "cell_type": "code",
   "execution_count": 16,
   "id": "18218c20",
   "metadata": {},
   "outputs": [
    {
     "name": "stdout",
     "output_type": "stream",
     "text": [
      "+----------------+\n",
      "|count(global_id)|\n",
      "+----------------+\n",
      "|         2152180|\n",
      "+----------------+\n",
      "\n"
     ]
    }
   ],
   "source": [
    "r = spark.sql('''SELECT COUNT(global_id)\n",
    "                      FROM inventory\n",
    "                      WHERE created_at > CAST(\"2019-12-31\" AS DATE)\n",
    "                         AND lab_result_id NOT LIKE \"None\"\n",
    "                   ''')\n",
    "r.show()"
   ]
  },
  {
   "cell_type": "code",
   "execution_count": 17,
   "id": "c371e966",
   "metadata": {
    "scrolled": true
   },
   "outputs": [
    {
     "name": "stdout",
     "output_type": "stream",
     "text": [
      "+-----------------+-------------------+-----------+-----------+--------------------+-----------------+-----------------+-----------------+----------------+-----------------+------------------+\n",
      "|        global_id|         created_at|     mme_id|    user_id|         external_id|         batch_id|    lab_result_id|created_by_mme_id|       strain_id|inventory_type_id|global_original_id|\n",
      "+-----------------+-------------------+-----------+-----------+--------------------+-----------------+-----------------+-----------------+----------------+-----------------+------------------+\n",
      "|WAJ416392.INFOUAZ|2019-12-31 00:00:12| WAWA1.MMSQ|WAWA1.US1YB|                null|WAJ416392.BAFTDIO|     WAL4.LR134NZ|             null|WAJ416392.ST1HQL|WAJ416392.TYDE1II|                  |\n",
      "|WAJ417152.INFOUB1|2019-12-31 00:00:23|WAWA1.MM12O|WAWA1.US123|                null|WAJ417152.BAFTDJE|     WAL9.LR13GP8|             null|WAJ417152.ST1NYS|WAJ417152.TY8YXRZ|                  |\n",
      "|WAJ417152.INFOUB2|2019-12-31 00:00:23|WAWA1.MM12O|WAWA1.US123|gf:bYCjmkezINKLaoqhM|WAJ417152.BAFTDJE| WAATTESTE.LR80MH|       WAWA1.MMHQ|WAJ417152.ST1NYS|WAJ417152.TYBDTHG| WAJ412132.INF0COY|\n",
      "|WAJ412902.INFOUB7|2019-12-31 00:00:37| WAWA1.MMXB|WAWA1.US2ST|                null|WAJ412902.BAFTDKG|    WAL12.LR12XZS|             null|WAJ412902.STJKY9|WAJ412902.TYBBFPD|                  |\n",
      "|WAJ416737.INFOUB8|2019-12-31 00:00:43|WAWA1.MM19L|WAWA1.US1AE|gf:jWjGzHHqPtbaehfmL|WAJ416737.BAFTDKS|WAATTESTE.LR11W6H|             null|WAJ416737.STGU0S|WAJ416737.TYDQUEV|                  |\n",
      "|WAM427673.INFOUBA|2019-12-31 00:00:47|WAWA1.MM23Z|WAWA1.US3P8|                null|WAM427673.BAFMM6J| WAATTESTE.LRWT54|             null|WAM427673.STJACM|WAM427673.TYACMB3| WAM427673.INFM53B|\n",
      "|WAM427673.INFOUBB|2019-12-31 00:00:47|WAWA1.MM23Z|WAWA1.US3P8|                null|WAM427673.BAF09XS| WAATTESTE.LRWT54|             null|WAM427673.STJACM|WAM427673.TYACMGD| WAM427673.INET0L1|\n",
      "|WAM427673.INFOUBC|2019-12-31 00:00:48|WAWA1.MM23Z|WAWA1.US3P8|                null|WAM427673.BAF641Q| WAATTESTE.LRWT54|             null|WAM427673.STJ76Y|WAM427673.TYACM8Y| WAM427673.INF90BE|\n",
      "|WAM427673.INFOUBD|2019-12-31 00:00:48|WAWA1.MM23Z|WAWA1.US3P8|                null|WAM427673.BAF641Q| WAATTESTE.LRWT54|             null|WAM427673.STJ76Y|WAM427673.TYACMDQ| WAM427673.INF90D5|\n",
      "|WAM427673.INFOUBE|2019-12-31 00:00:49|WAWA1.MM23Z|WAWA1.US3P8|                null|WAM427673.BAF9DO3| WAATTESTE.LRWT54|             null|WAM427673.STJ9PP|WAM427673.TYABQR2| WAM427673.INF8TNS|\n",
      "|WAM427673.INFOUBF|2019-12-31 00:00:49|WAWA1.MM23Z|WAWA1.US3P8|                null|WAM427673.BAESE19| WAATTESTE.LRWT54|             null|WAM427673.STJ9PP|WAM427673.TYABQQV| WAM427673.INETZVI|\n",
      "|WAM427673.INFOUBG|2019-12-31 00:00:50|WAWA1.MM23Z|WAWA1.US3P8|                null|WAM427673.BAF64J1| WAATTESTE.LRWT54|             null|WAM427673.STJ76T|WAM427673.TYACMB6| WAM427673.INF62ML|\n",
      "|WAM427673.INFOUBH|2019-12-31 00:00:50|WAWA1.MM23Z|WAWA1.US3P8|                null|WAM427673.BAEUB6M| WAATTESTE.LRWT54|             null|WAM427673.STJ76T|WAM427673.TYACN75| WAM427673.INF31G8|\n",
      "|WAM427673.INFOUBI|2019-12-31 00:00:51|WAWA1.MM23Z|WAWA1.US3P8|                null|WAM427673.BAF442M| WAATTESTE.LRWT54|             null|WAM427673.STJJSD|WAM427673.TYACMB7| WAM427673.INEZVK4|\n",
      "|WAM427673.INFOUBJ|2019-12-31 00:00:51|WAWA1.MM23Z|WAWA1.US3P8|                null|WAM427673.BAF442M| WAATTESTE.LRWT54|             null|WAM427673.STJJSD|WAM427673.TYACMDU| WAM427673.INEZVLS|\n",
      "|WAM427673.INFOUBK|2019-12-31 00:00:52|WAWA1.MM23Z|WAWA1.US3P8|                null|WAM427673.BABK8SC| WAATTESTE.LRWT54|             null|WAM427673.STINLQ|WAM427673.TYACMVO| WAM427673.INFOU7W|\n",
      "|WAM427673.INFOUBL|2019-12-31 00:00:52|WAWA1.MM23Z|WAWA1.US3P8|                null|WAM427673.BABK8SC| WAATTESTE.LRWT54|             null|WAM427673.STINLQ|WAM427673.TYABZM5| WAM427673.INE6LBF|\n",
      "|WAJ414040.INFOUBN|2019-12-31 00:00:57|WAWA1.MM19J|WAWA1.US1AC|                null|WAJ414040.BAFTDM1|     WAL9.LR12Z51|             null|WAJ414040.STJHDE|WAJ414040.TY98AIG|                  |\n",
      "|WAJ415747.INFOUBO|2019-12-31 00:00:59|WAWA1.MM1W4|WAWA1.US365|gf:oDqWhGLzFhmkeXzHX|WAJ415747.BAFTDM4|     WAL3.LR13GCP|             null|WAJ415747.STJ53G|WAJ415747.TYDQUEY|                  |\n",
      "|WAJ412902.INFOUBT|2019-12-31 00:01:19| WAWA1.MMXB|WAWA1.US2ST|                null|WAJ412902.BAFTDNQ|    WAL12.LR12XZS|             null|WAJ412902.STJKY9|WAJ412902.TYBBFRD|                  |\n",
      "+-----------------+-------------------+-----------+-----------+--------------------+-----------------+-----------------+-----------------+----------------+-----------------+------------------+\n",
      "only showing top 20 rows\n",
      "\n"
     ]
    }
   ],
   "source": [
    "result = spark.sql('''SELECT global_id\n",
    "                             , created_at\n",
    "                             , mme_id\n",
    "                             , user_id\n",
    "                             , external_id\n",
    "                             , batch_id\n",
    "                             , lab_result_id\n",
    "                             , created_by_mme_id\n",
    "                             , strain_id\n",
    "                             , inventory_type_id\n",
    "                             , global_original_id\n",
    "                      FROM inventory\n",
    "                      WHERE created_at >= CAST(\"2020-01-01\" AS DATE)\n",
    "                         AND lab_result_id NOT LIKE \"None\"\n",
    "                   ''')\n",
    "result.show()"
   ]
  },
  {
   "cell_type": "code",
   "execution_count": 33,
   "id": "ab11633e",
   "metadata": {},
   "outputs": [],
   "source": [
    "for month in range(1,13):\n",
    "    r = spark.sql(f'''SELECT global_id\n",
    "                             , created_at\n",
    "                             , mme_id\n",
    "                             , user_id\n",
    "                             , external_id\n",
    "                             , batch_id\n",
    "                             , lab_result_id\n",
    "                             , created_by_mme_id\n",
    "                             , strain_id\n",
    "                             , inventory_type_id\n",
    "                             , global_original_id\n",
    "                      FROM inventory\n",
    "                      WHERE created_at >= CAST(\"2020-{month}-01\" AS DATE)\n",
    "                         AND lab_result_id NOT LIKE \"None\"\n",
    "    ''')\n",
    "    r.coalesce(1).write.csv(f'inventory_month_{month}.csv', header='true')"
   ]
  },
  {
   "cell_type": "code",
   "execution_count": 35,
   "id": "ae060760",
   "metadata": {
    "scrolled": true
   },
   "outputs": [],
   "source": [
    "df_2 = pd.read_csv('/home/austin/code/dsi/capstone_1/inventory_month_1.csv/part-00000-3d7a9777-9ab2-4297-8f76-d19a7794b661-c000.csv')"
   ]
  },
  {
   "cell_type": "code",
   "execution_count": 36,
   "id": "5b22663e",
   "metadata": {},
   "outputs": [
    {
     "data": {
      "text/html": [
       "<div>\n",
       "<style scoped>\n",
       "    .dataframe tbody tr th:only-of-type {\n",
       "        vertical-align: middle;\n",
       "    }\n",
       "\n",
       "    .dataframe tbody tr th {\n",
       "        vertical-align: top;\n",
       "    }\n",
       "\n",
       "    .dataframe thead th {\n",
       "        text-align: right;\n",
       "    }\n",
       "</style>\n",
       "<table border=\"1\" class=\"dataframe\">\n",
       "  <thead>\n",
       "    <tr style=\"text-align: right;\">\n",
       "      <th></th>\n",
       "      <th>global_id</th>\n",
       "      <th>created_at</th>\n",
       "      <th>mme_id</th>\n",
       "      <th>user_id</th>\n",
       "      <th>external_id</th>\n",
       "      <th>batch_id</th>\n",
       "      <th>lab_result_id</th>\n",
       "      <th>created_by_mme_id</th>\n",
       "      <th>strain_id</th>\n",
       "      <th>inventory_type_id</th>\n",
       "      <th>global_original_id</th>\n",
       "    </tr>\n",
       "  </thead>\n",
       "  <tbody>\n",
       "    <tr>\n",
       "      <th>0</th>\n",
       "      <td>WAJ412217.INFPLZB</td>\n",
       "      <td>2020-01-01T00:04:00.000-08:00</td>\n",
       "      <td>WAWA1.MMG</td>\n",
       "      <td>WAWA1.US6I</td>\n",
       "      <td>f4434b94-f35e-4e10-bead-48a48c3f15d6</td>\n",
       "      <td>WAJ412217.BAFU05U</td>\n",
       "      <td>WAATTESTE.LR7HLB</td>\n",
       "      <td>WAWA1.MMJ9</td>\n",
       "      <td>WAJ412217.STNDGY</td>\n",
       "      <td>WAJ412217.TYDLBH3</td>\n",
       "      <td>WAR415333.INFH2S6</td>\n",
       "    </tr>\n",
       "    <tr>\n",
       "      <th>1</th>\n",
       "      <td>WAR424751.INFPLZE</td>\n",
       "      <td>2020-01-01T00:04:39.000-08:00</td>\n",
       "      <td>WAWA1.MMB8</td>\n",
       "      <td>WAWA1.US91</td>\n",
       "      <td>gf:qsEfj-AQseoGRSPMr</td>\n",
       "      <td>WAR424751.BAFU05V</td>\n",
       "      <td>WAL8.LR12WHA</td>\n",
       "      <td>WAWA1.MMX8</td>\n",
       "      <td>NaN</td>\n",
       "      <td>WAR424751.TYBF0JR</td>\n",
       "      <td>WAJ414289.INFL5R7</td>\n",
       "    </tr>\n",
       "    <tr>\n",
       "      <th>2</th>\n",
       "      <td>WAR424751.INFPLZF</td>\n",
       "      <td>2020-01-01T00:04:39.000-08:00</td>\n",
       "      <td>WAWA1.MMB8</td>\n",
       "      <td>WAWA1.US91</td>\n",
       "      <td>gf:epnYz_MrsKWS_NjYr</td>\n",
       "      <td>WAR424751.BAFU05W</td>\n",
       "      <td>WAL8.LR131KT</td>\n",
       "      <td>WAWA1.MMX8</td>\n",
       "      <td>NaN</td>\n",
       "      <td>WAR424751.TYBF0JR</td>\n",
       "      <td>WAJ414289.INFL5R8</td>\n",
       "    </tr>\n",
       "    <tr>\n",
       "      <th>3</th>\n",
       "      <td>WAR424751.INFPLZG</td>\n",
       "      <td>2020-01-01T00:04:39.000-08:00</td>\n",
       "      <td>WAWA1.MMB8</td>\n",
       "      <td>WAWA1.US91</td>\n",
       "      <td>gf:TQOlKrLDEUCkPoVGP</td>\n",
       "      <td>WAR424751.BAFU05X</td>\n",
       "      <td>WAL8.LR12PG7</td>\n",
       "      <td>WAWA1.MMX8</td>\n",
       "      <td>NaN</td>\n",
       "      <td>WAR424751.TYBF0JS</td>\n",
       "      <td>WAJ414289.INFL5R6</td>\n",
       "    </tr>\n",
       "    <tr>\n",
       "      <th>4</th>\n",
       "      <td>WAR424751.INFPLZH</td>\n",
       "      <td>2020-01-01T00:04:39.000-08:00</td>\n",
       "      <td>WAWA1.MMB8</td>\n",
       "      <td>WAWA1.US91</td>\n",
       "      <td>gf:Ady_cshdypUYFwOpk</td>\n",
       "      <td>WAR424751.BAFU05Y</td>\n",
       "      <td>WAL8.LR131KX</td>\n",
       "      <td>WAWA1.MMX8</td>\n",
       "      <td>NaN</td>\n",
       "      <td>WAR424751.TYBF0JR</td>\n",
       "      <td>WAJ414289.INFL9BP</td>\n",
       "    </tr>\n",
       "  </tbody>\n",
       "</table>\n",
       "</div>"
      ],
      "text/plain": [
       "           global_id                     created_at      mme_id     user_id  \\\n",
       "0  WAJ412217.INFPLZB  2020-01-01T00:04:00.000-08:00   WAWA1.MMG  WAWA1.US6I   \n",
       "1  WAR424751.INFPLZE  2020-01-01T00:04:39.000-08:00  WAWA1.MMB8  WAWA1.US91   \n",
       "2  WAR424751.INFPLZF  2020-01-01T00:04:39.000-08:00  WAWA1.MMB8  WAWA1.US91   \n",
       "3  WAR424751.INFPLZG  2020-01-01T00:04:39.000-08:00  WAWA1.MMB8  WAWA1.US91   \n",
       "4  WAR424751.INFPLZH  2020-01-01T00:04:39.000-08:00  WAWA1.MMB8  WAWA1.US91   \n",
       "\n",
       "                            external_id           batch_id     lab_result_id  \\\n",
       "0  f4434b94-f35e-4e10-bead-48a48c3f15d6  WAJ412217.BAFU05U  WAATTESTE.LR7HLB   \n",
       "1                  gf:qsEfj-AQseoGRSPMr  WAR424751.BAFU05V      WAL8.LR12WHA   \n",
       "2                  gf:epnYz_MrsKWS_NjYr  WAR424751.BAFU05W      WAL8.LR131KT   \n",
       "3                  gf:TQOlKrLDEUCkPoVGP  WAR424751.BAFU05X      WAL8.LR12PG7   \n",
       "4                  gf:Ady_cshdypUYFwOpk  WAR424751.BAFU05Y      WAL8.LR131KX   \n",
       "\n",
       "  created_by_mme_id         strain_id  inventory_type_id global_original_id  \n",
       "0        WAWA1.MMJ9  WAJ412217.STNDGY  WAJ412217.TYDLBH3  WAR415333.INFH2S6  \n",
       "1        WAWA1.MMX8               NaN  WAR424751.TYBF0JR  WAJ414289.INFL5R7  \n",
       "2        WAWA1.MMX8               NaN  WAR424751.TYBF0JR  WAJ414289.INFL5R8  \n",
       "3        WAWA1.MMX8               NaN  WAR424751.TYBF0JS  WAJ414289.INFL5R6  \n",
       "4        WAWA1.MMX8               NaN  WAR424751.TYBF0JR  WAJ414289.INFL9BP  "
      ]
     },
     "execution_count": 36,
     "metadata": {},
     "output_type": "execute_result"
    }
   ],
   "source": [
    "df_2.head()"
   ]
  },
  {
   "cell_type": "code",
   "execution_count": 40,
   "id": "a80c54dc",
   "metadata": {},
   "outputs": [
    {
     "name": "stdout",
     "output_type": "stream",
     "text": [
      "global_id 2\n",
      "created_at 40\n",
      "mme_id 468229\n",
      "user_id 560079\n",
      "external_id 1548\n",
      "batch_id 4450\n",
      "lab_result_id 817271\n",
      "created_by_mme_id 420441\n",
      "strain_id 152064\n",
      "inventory_type_id 14802\n",
      "global_original_id 2771\n"
     ]
    }
   ],
   "source": [
    "for col in df_2.columns:\n",
    "    m = max(df_2[col].value_counts())\n",
    "    print(col, m)"
   ]
  }
 ],
 "metadata": {
  "kernelspec": {
   "display_name": "Python 3",
   "language": "python",
   "name": "python3"
  },
  "language_info": {
   "codemirror_mode": {
    "name": "ipython",
    "version": 3
   },
   "file_extension": ".py",
   "mimetype": "text/x-python",
   "name": "python",
   "nbconvert_exporter": "python",
   "pygments_lexer": "ipython3",
   "version": "3.7.10"
  }
 },
 "nbformat": 4,
 "nbformat_minor": 5
}
