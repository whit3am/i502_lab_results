{
 "cells": [
  {
   "cell_type": "code",
   "execution_count": 11,
   "id": "0daa1a8d",
   "metadata": {},
   "outputs": [],
   "source": [
    "import pprint\n",
    "import numpy as np\n",
    "import pandas as pd\n",
    "import matplotlib.pyplot as plt\n",
    "from scripts import datapipe\n",
    "from scripts import helper_functions\n",
    "plt.style.use('ggplot')"
   ]
  },
  {
   "cell_type": "code",
   "execution_count": 12,
   "id": "7e0d6be5",
   "metadata": {},
   "outputs": [],
   "source": [
    "q = '''SELECT global_id\n",
    "                    , created_at\n",
    "                    , mme_id\n",
    "                    , user_id\n",
    "                    , external_id\n",
    "                    , is_parent_batch\n",
    "                    , is_child_batch\n",
    "                    , type\n",
    "        FROM temp\n",
    "        WHERE created_at >= CAST(\"{}-{}-01\" AS DATE)\n",
    "    '''\n",
    "\n",
    "query = datapipe.SqlQuery(q, 2020, 1)\n",
    "path = '/media/austin/Ubuntu-2/postgres_i502/raw_data/I502/Batches_0.csv'"
   ]
  },
  {
   "cell_type": "code",
   "execution_count": 13,
   "id": "4bc149b4",
   "metadata": {},
   "outputs": [],
   "source": [
    "data = datapipe.DataPipe(path, query, 'batches')"
   ]
  },
  {
   "cell_type": "code",
   "execution_count": 15,
   "id": "fb4e6b6d",
   "metadata": {},
   "outputs": [
    {
     "name": "stderr",
     "output_type": "stream",
     "text": [
      "b'Skipping line 833912: expected 8 fields, saw 10\\n'\n",
      "b'Skipping line 1423056: expected 8 fields, saw 10\\n'\n",
      "b'Skipping line 1787391: expected 8 fields, saw 10\\n'\n",
      "b'Skipping line 8477543: expected 8 fields, saw 10\\n'\n"
     ]
    }
   ],
   "source": [
    "df = pd.read_csv(\"/home/austin/code/dsi/capstone_1/batches_year_Nonemonth_None.csv/part-00000-53d393ed-da5f-4d61-9052-e92056c6df0f-c000.csv\"\n",
    "                , error_bad_lines=False)"
   ]
  },
  {
   "cell_type": "code",
   "execution_count": 16,
   "id": "ecbd838e",
   "metadata": {
    "scrolled": true
   },
   "outputs": [
    {
     "data": {
      "text/html": [
       "<div>\n",
       "<style scoped>\n",
       "    .dataframe tbody tr th:only-of-type {\n",
       "        vertical-align: middle;\n",
       "    }\n",
       "\n",
       "    .dataframe tbody tr th {\n",
       "        vertical-align: top;\n",
       "    }\n",
       "\n",
       "    .dataframe thead th {\n",
       "        text-align: right;\n",
       "    }\n",
       "</style>\n",
       "<table border=\"1\" class=\"dataframe\">\n",
       "  <thead>\n",
       "    <tr style=\"text-align: right;\">\n",
       "      <th></th>\n",
       "      <th>global_id</th>\n",
       "      <th>created_at</th>\n",
       "      <th>mme_id</th>\n",
       "      <th>user_id</th>\n",
       "      <th>external_id</th>\n",
       "      <th>is_parent_batch</th>\n",
       "      <th>is_child_batch</th>\n",
       "      <th>type</th>\n",
       "    </tr>\n",
       "  </thead>\n",
       "  <tbody>\n",
       "    <tr>\n",
       "      <th>0</th>\n",
       "      <td>WAJ412217.BAFU05R</td>\n",
       "      <td>2020-01-01T00:00:00.000-08:00</td>\n",
       "      <td>WAWA1.MMG</td>\n",
       "      <td>WAWA1.US6I</td>\n",
       "      <td>NaN</td>\n",
       "      <td>True</td>\n",
       "      <td>False</td>\n",
       "      <td>plant</td>\n",
       "    </tr>\n",
       "    <tr>\n",
       "      <th>1</th>\n",
       "      <td>WAJ412217.BAFU05S</td>\n",
       "      <td>2020-01-01T00:01:31.000-08:00</td>\n",
       "      <td>WAWA1.MMG</td>\n",
       "      <td>WAWA1.US6I</td>\n",
       "      <td>NaN</td>\n",
       "      <td>True</td>\n",
       "      <td>False</td>\n",
       "      <td>plant</td>\n",
       "    </tr>\n",
       "    <tr>\n",
       "      <th>2</th>\n",
       "      <td>WAJ412217.BAFU05T</td>\n",
       "      <td>2020-01-01T00:03:18.000-08:00</td>\n",
       "      <td>WAWA1.MMG</td>\n",
       "      <td>WAWA1.US6I</td>\n",
       "      <td>7</td>\n",
       "      <td>False</td>\n",
       "      <td>False</td>\n",
       "      <td>propagation material</td>\n",
       "    </tr>\n",
       "    <tr>\n",
       "      <th>3</th>\n",
       "      <td>WAJ412217.BAFU05U</td>\n",
       "      <td>2020-01-01T00:04:00.000-08:00</td>\n",
       "      <td>WAWA1.MMG</td>\n",
       "      <td>WAWA1.US6I</td>\n",
       "      <td>NaN</td>\n",
       "      <td>False</td>\n",
       "      <td>True</td>\n",
       "      <td>intermediate/ end product</td>\n",
       "    </tr>\n",
       "    <tr>\n",
       "      <th>4</th>\n",
       "      <td>WAR424751.BAFU05V</td>\n",
       "      <td>2020-01-01T00:04:39.000-08:00</td>\n",
       "      <td>WAWA1.MMB8</td>\n",
       "      <td>WAWA1.US91</td>\n",
       "      <td>IN_CONV2_WAJ414289.INE2OI3</td>\n",
       "      <td>False</td>\n",
       "      <td>True</td>\n",
       "      <td>intermediate/ end product</td>\n",
       "    </tr>\n",
       "  </tbody>\n",
       "</table>\n",
       "</div>"
      ],
      "text/plain": [
       "           global_id                     created_at      mme_id     user_id  \\\n",
       "0  WAJ412217.BAFU05R  2020-01-01T00:00:00.000-08:00   WAWA1.MMG  WAWA1.US6I   \n",
       "1  WAJ412217.BAFU05S  2020-01-01T00:01:31.000-08:00   WAWA1.MMG  WAWA1.US6I   \n",
       "2  WAJ412217.BAFU05T  2020-01-01T00:03:18.000-08:00   WAWA1.MMG  WAWA1.US6I   \n",
       "3  WAJ412217.BAFU05U  2020-01-01T00:04:00.000-08:00   WAWA1.MMG  WAWA1.US6I   \n",
       "4  WAR424751.BAFU05V  2020-01-01T00:04:39.000-08:00  WAWA1.MMB8  WAWA1.US91   \n",
       "\n",
       "                  external_id  is_parent_batch  is_child_batch  \\\n",
       "0                         NaN             True           False   \n",
       "1                         NaN             True           False   \n",
       "2                           7            False           False   \n",
       "3                         NaN            False            True   \n",
       "4  IN_CONV2_WAJ414289.INE2OI3            False            True   \n",
       "\n",
       "                        type  \n",
       "0                      plant  \n",
       "1                      plant  \n",
       "2       propagation material  \n",
       "3  intermediate/ end product  \n",
       "4  intermediate/ end product  "
      ]
     },
     "execution_count": 16,
     "metadata": {},
     "output_type": "execute_result"
    }
   ],
   "source": [
    "df.head()"
   ]
  },
  {
   "cell_type": "code",
   "execution_count": 17,
   "id": "3687639d",
   "metadata": {},
   "outputs": [
    {
     "name": "stdout",
     "output_type": "stream",
     "text": [
      "<class 'pandas.core.frame.DataFrame'>\n",
      "RangeIndex: 10277437 entries, 0 to 10277436\n",
      "Data columns (total 8 columns):\n",
      " #   Column           Dtype \n",
      "---  ------           ----- \n",
      " 0   global_id        object\n",
      " 1   created_at       object\n",
      " 2   mme_id           object\n",
      " 3   user_id          object\n",
      " 4   external_id      object\n",
      " 5   is_parent_batch  bool  \n",
      " 6   is_child_batch   bool  \n",
      " 7   type             object\n",
      "dtypes: bool(2), object(6)\n",
      "memory usage: 490.1+ MB\n"
     ]
    }
   ],
   "source": [
    "df.info()"
   ]
  },
  {
   "cell_type": "code",
   "execution_count": 20,
   "id": "2453232c",
   "metadata": {},
   "outputs": [
    {
     "data": {
      "text/plain": [
       "False    9211022\n",
       "True     1066415\n",
       "Name: is_parent_batch, dtype: int64"
      ]
     },
     "execution_count": 20,
     "metadata": {},
     "output_type": "execute_result"
    }
   ],
   "source": [
    "df['is_parent_batch'].value_counts()"
   ]
  },
  {
   "cell_type": "code",
   "execution_count": 26,
   "id": "aad59b78",
   "metadata": {},
   "outputs": [
    {
     "data": {
      "text/plain": [
       "plant                        544422\n",
       "propagation material         244825\n",
       "intermediate/ end product    218289\n",
       "harvest                       58875\n",
       "Name: type, dtype: int64"
      ]
     },
     "execution_count": 26,
     "metadata": {},
     "output_type": "execute_result"
    }
   ],
   "source": [
    "df[df['is_parent_batch'] == True]['type'].value_counts()"
   ]
  },
  {
   "cell_type": "code",
   "execution_count": 19,
   "id": "8d655411",
   "metadata": {},
   "outputs": [
    {
     "data": {
      "text/plain": [
       "True     6477283\n",
       "False    3800154\n",
       "Name: is_child_batch, dtype: int64"
      ]
     },
     "execution_count": 19,
     "metadata": {},
     "output_type": "execute_result"
    }
   ],
   "source": [
    "df['is_child_batch'].value_counts()"
   ]
  },
  {
   "cell_type": "code",
   "execution_count": 25,
   "id": "4e586e04",
   "metadata": {},
   "outputs": [
    {
     "data": {
      "text/plain": [
       "intermediate/ end product    5675013\n",
       "plant                         360697\n",
       "propagation material          244792\n",
       "harvest                       196781\n",
       "Name: type, dtype: int64"
      ]
     },
     "execution_count": 25,
     "metadata": {},
     "output_type": "execute_result"
    }
   ],
   "source": [
    "df[df['is_child_batch'] == True]['type'].value_counts()"
   ]
  },
  {
   "cell_type": "code",
   "execution_count": 28,
   "id": "90b3b259",
   "metadata": {},
   "outputs": [
    {
     "data": {
      "text/html": [
       "<div>\n",
       "<style scoped>\n",
       "    .dataframe tbody tr th:only-of-type {\n",
       "        vertical-align: middle;\n",
       "    }\n",
       "\n",
       "    .dataframe tbody tr th {\n",
       "        vertical-align: top;\n",
       "    }\n",
       "\n",
       "    .dataframe thead th {\n",
       "        text-align: right;\n",
       "    }\n",
       "</style>\n",
       "<table border=\"1\" class=\"dataframe\">\n",
       "  <thead>\n",
       "    <tr style=\"text-align: right;\">\n",
       "      <th></th>\n",
       "      <th>global_id</th>\n",
       "      <th>created_at</th>\n",
       "      <th>mme_id</th>\n",
       "      <th>user_id</th>\n",
       "      <th>external_id</th>\n",
       "      <th>is_parent_batch</th>\n",
       "      <th>is_child_batch</th>\n",
       "      <th>type</th>\n",
       "    </tr>\n",
       "  </thead>\n",
       "  <tbody>\n",
       "    <tr>\n",
       "      <th>165</th>\n",
       "      <td>WAJ416272.BAFU0AC</td>\n",
       "      <td>2020-01-01T00:13:59.000-08:00</td>\n",
       "      <td>WAWA1.MMAZ</td>\n",
       "      <td>WAWA1.USTK</td>\n",
       "      <td>NaN</td>\n",
       "      <td>False</td>\n",
       "      <td>True</td>\n",
       "      <td>harvest</td>\n",
       "    </tr>\n",
       "    <tr>\n",
       "      <th>469</th>\n",
       "      <td>WAJ416272.BAFU0IS</td>\n",
       "      <td>2020-01-01T00:14:49.000-08:00</td>\n",
       "      <td>WAWA1.MMAZ</td>\n",
       "      <td>WAWA1.USTK</td>\n",
       "      <td>NaN</td>\n",
       "      <td>False</td>\n",
       "      <td>True</td>\n",
       "      <td>harvest</td>\n",
       "    </tr>\n",
       "    <tr>\n",
       "      <th>492</th>\n",
       "      <td>WAJ416272.BAFU0JF</td>\n",
       "      <td>2020-01-01T00:16:39.000-08:00</td>\n",
       "      <td>WAWA1.MMAZ</td>\n",
       "      <td>WAWA1.USTK</td>\n",
       "      <td>NaN</td>\n",
       "      <td>False</td>\n",
       "      <td>True</td>\n",
       "      <td>harvest</td>\n",
       "    </tr>\n",
       "    <tr>\n",
       "      <th>493</th>\n",
       "      <td>WAJ416272.BAFU0JG</td>\n",
       "      <td>2020-01-01T00:17:06.000-08:00</td>\n",
       "      <td>WAWA1.MMAZ</td>\n",
       "      <td>WAWA1.USTK</td>\n",
       "      <td>NaN</td>\n",
       "      <td>True</td>\n",
       "      <td>True</td>\n",
       "      <td>harvest</td>\n",
       "    </tr>\n",
       "    <tr>\n",
       "      <th>499</th>\n",
       "      <td>WAJ416272.BAFU0JM</td>\n",
       "      <td>2020-01-01T00:17:57.000-08:00</td>\n",
       "      <td>WAWA1.MMAZ</td>\n",
       "      <td>WAWA1.USTK</td>\n",
       "      <td>NaN</td>\n",
       "      <td>False</td>\n",
       "      <td>True</td>\n",
       "      <td>harvest</td>\n",
       "    </tr>\n",
       "  </tbody>\n",
       "</table>\n",
       "</div>"
      ],
      "text/plain": [
       "             global_id                     created_at      mme_id     user_id  \\\n",
       "165  WAJ416272.BAFU0AC  2020-01-01T00:13:59.000-08:00  WAWA1.MMAZ  WAWA1.USTK   \n",
       "469  WAJ416272.BAFU0IS  2020-01-01T00:14:49.000-08:00  WAWA1.MMAZ  WAWA1.USTK   \n",
       "492  WAJ416272.BAFU0JF  2020-01-01T00:16:39.000-08:00  WAWA1.MMAZ  WAWA1.USTK   \n",
       "493  WAJ416272.BAFU0JG  2020-01-01T00:17:06.000-08:00  WAWA1.MMAZ  WAWA1.USTK   \n",
       "499  WAJ416272.BAFU0JM  2020-01-01T00:17:57.000-08:00  WAWA1.MMAZ  WAWA1.USTK   \n",
       "\n",
       "    external_id  is_parent_batch  is_child_batch     type  \n",
       "165         NaN            False            True  harvest  \n",
       "469         NaN            False            True  harvest  \n",
       "492         NaN            False            True  harvest  \n",
       "493         NaN             True            True  harvest  \n",
       "499         NaN            False            True  harvest  "
      ]
     },
     "execution_count": 28,
     "metadata": {},
     "output_type": "execute_result"
    }
   ],
   "source": [
    "df[(df['is_child_batch'] == True) & (df['type'] == 'harvest')].head()"
   ]
  },
  {
   "cell_type": "code",
   "execution_count": 31,
   "id": "9c1f9d28",
   "metadata": {},
   "outputs": [
    {
     "data": {
      "text/html": [
       "<div>\n",
       "<style scoped>\n",
       "    .dataframe tbody tr th:only-of-type {\n",
       "        vertical-align: middle;\n",
       "    }\n",
       "\n",
       "    .dataframe tbody tr th {\n",
       "        vertical-align: top;\n",
       "    }\n",
       "\n",
       "    .dataframe thead th {\n",
       "        text-align: right;\n",
       "    }\n",
       "</style>\n",
       "<table border=\"1\" class=\"dataframe\">\n",
       "  <thead>\n",
       "    <tr style=\"text-align: right;\">\n",
       "      <th></th>\n",
       "      <th>global_id</th>\n",
       "      <th>created_at</th>\n",
       "      <th>mme_id</th>\n",
       "      <th>user_id</th>\n",
       "      <th>external_id</th>\n",
       "      <th>is_parent_batch</th>\n",
       "      <th>is_child_batch</th>\n",
       "      <th>type</th>\n",
       "    </tr>\n",
       "  </thead>\n",
       "  <tbody>\n",
       "    <tr>\n",
       "      <th>493</th>\n",
       "      <td>WAJ416272.BAFU0JG</td>\n",
       "      <td>2020-01-01T00:17:06.000-08:00</td>\n",
       "      <td>WAWA1.MMAZ</td>\n",
       "      <td>WAWA1.USTK</td>\n",
       "      <td>NaN</td>\n",
       "      <td>True</td>\n",
       "      <td>True</td>\n",
       "      <td>harvest</td>\n",
       "    </tr>\n",
       "    <tr>\n",
       "      <th>2057</th>\n",
       "      <td>WAJ412053.BAFU1QW</td>\n",
       "      <td>2020-01-01T01:11:33.000-08:00</td>\n",
       "      <td>WAWA1.MMS</td>\n",
       "      <td>WAWA1.USO</td>\n",
       "      <td>NaN</td>\n",
       "      <td>True</td>\n",
       "      <td>True</td>\n",
       "      <td>harvest</td>\n",
       "    </tr>\n",
       "    <tr>\n",
       "      <th>2909</th>\n",
       "      <td>WAR427634.BAFU2EK</td>\n",
       "      <td>2020-01-01T01:41:42.000-08:00</td>\n",
       "      <td>WAWA1.MM4V</td>\n",
       "      <td>WAWA1.US3FK</td>\n",
       "      <td>162</td>\n",
       "      <td>True</td>\n",
       "      <td>True</td>\n",
       "      <td>harvest</td>\n",
       "    </tr>\n",
       "    <tr>\n",
       "      <th>2921</th>\n",
       "      <td>WAR427634.BAFU2EW</td>\n",
       "      <td>2020-01-01T01:41:43.000-08:00</td>\n",
       "      <td>WAWA1.MM4V</td>\n",
       "      <td>WAWA1.US3FK</td>\n",
       "      <td>NaN</td>\n",
       "      <td>True</td>\n",
       "      <td>True</td>\n",
       "      <td>harvest</td>\n",
       "    </tr>\n",
       "    <tr>\n",
       "      <th>2928</th>\n",
       "      <td>WAR427634.BAFU2F3</td>\n",
       "      <td>2020-01-01T01:41:43.000-08:00</td>\n",
       "      <td>WAWA1.MM4V</td>\n",
       "      <td>WAWA1.US3FK</td>\n",
       "      <td>178</td>\n",
       "      <td>True</td>\n",
       "      <td>True</td>\n",
       "      <td>harvest</td>\n",
       "    </tr>\n",
       "  </tbody>\n",
       "</table>\n",
       "</div>"
      ],
      "text/plain": [
       "              global_id                     created_at      mme_id  \\\n",
       "493   WAJ416272.BAFU0JG  2020-01-01T00:17:06.000-08:00  WAWA1.MMAZ   \n",
       "2057  WAJ412053.BAFU1QW  2020-01-01T01:11:33.000-08:00   WAWA1.MMS   \n",
       "2909  WAR427634.BAFU2EK  2020-01-01T01:41:42.000-08:00  WAWA1.MM4V   \n",
       "2921  WAR427634.BAFU2EW  2020-01-01T01:41:43.000-08:00  WAWA1.MM4V   \n",
       "2928  WAR427634.BAFU2F3  2020-01-01T01:41:43.000-08:00  WAWA1.MM4V   \n",
       "\n",
       "          user_id external_id  is_parent_batch  is_child_batch     type  \n",
       "493    WAWA1.USTK         NaN             True            True  harvest  \n",
       "2057    WAWA1.USO         NaN             True            True  harvest  \n",
       "2909  WAWA1.US3FK         162             True            True  harvest  \n",
       "2921  WAWA1.US3FK         NaN             True            True  harvest  \n",
       "2928  WAWA1.US3FK         178             True            True  harvest  "
      ]
     },
     "execution_count": 31,
     "metadata": {},
     "output_type": "execute_result"
    }
   ],
   "source": [
    "df[(df['is_parent_batch'] == True) & (df['type'] == 'harvest')].head()"
   ]
  },
  {
   "cell_type": "code",
   "execution_count": 34,
   "id": "2f9c5461",
   "metadata": {},
   "outputs": [
    {
     "data": {
      "text/html": [
       "<div>\n",
       "<style scoped>\n",
       "    .dataframe tbody tr th:only-of-type {\n",
       "        vertical-align: middle;\n",
       "    }\n",
       "\n",
       "    .dataframe tbody tr th {\n",
       "        vertical-align: top;\n",
       "    }\n",
       "\n",
       "    .dataframe thead th {\n",
       "        text-align: right;\n",
       "    }\n",
       "</style>\n",
       "<table border=\"1\" class=\"dataframe\">\n",
       "  <thead>\n",
       "    <tr style=\"text-align: right;\">\n",
       "      <th></th>\n",
       "      <th>global_id</th>\n",
       "      <th>created_at</th>\n",
       "      <th>mme_id</th>\n",
       "      <th>user_id</th>\n",
       "      <th>external_id</th>\n",
       "      <th>is_parent_batch</th>\n",
       "      <th>is_child_batch</th>\n",
       "      <th>type</th>\n",
       "    </tr>\n",
       "  </thead>\n",
       "  <tbody>\n",
       "    <tr>\n",
       "      <th>4928</th>\n",
       "      <td>WAR414356.BAFU3YN</td>\n",
       "      <td>2020-01-01T03:00:10.000-08:00</td>\n",
       "      <td>WAWA1.MMM3</td>\n",
       "      <td>WAWA1.USJY</td>\n",
       "      <td>NaN</td>\n",
       "      <td>False</td>\n",
       "      <td>False</td>\n",
       "      <td>harvest</td>\n",
       "    </tr>\n",
       "    <tr>\n",
       "      <th>7547</th>\n",
       "      <td>WAM416698.BAFU5ZE</td>\n",
       "      <td>2020-01-01T05:04:39.000-08:00</td>\n",
       "      <td>WAWA1.MMN8</td>\n",
       "      <td>WAWA1.US363</td>\n",
       "      <td>4152220000008339</td>\n",
       "      <td>False</td>\n",
       "      <td>False</td>\n",
       "      <td>harvest</td>\n",
       "    </tr>\n",
       "    <tr>\n",
       "      <th>7548</th>\n",
       "      <td>WAM416698.BAFU5ZF</td>\n",
       "      <td>2020-01-01T05:04:39.000-08:00</td>\n",
       "      <td>WAWA1.MMN8</td>\n",
       "      <td>WAWA1.US363</td>\n",
       "      <td>4152220000008331</td>\n",
       "      <td>False</td>\n",
       "      <td>False</td>\n",
       "      <td>harvest</td>\n",
       "    </tr>\n",
       "    <tr>\n",
       "      <th>8922</th>\n",
       "      <td>WAM416698.BAFU71L</td>\n",
       "      <td>2020-01-01T05:49:46.000-08:00</td>\n",
       "      <td>WAWA1.MMN8</td>\n",
       "      <td>WAWA1.US363</td>\n",
       "      <td>4129040000007968</td>\n",
       "      <td>False</td>\n",
       "      <td>False</td>\n",
       "      <td>harvest</td>\n",
       "    </tr>\n",
       "    <tr>\n",
       "      <th>15971</th>\n",
       "      <td>WAM412236.BAFUCHE</td>\n",
       "      <td>2020-01-02T00:09:36.000-08:00</td>\n",
       "      <td>WAWA1.MM4R</td>\n",
       "      <td>WAWA1.US3C</td>\n",
       "      <td>4144300000000857</td>\n",
       "      <td>False</td>\n",
       "      <td>False</td>\n",
       "      <td>harvest</td>\n",
       "    </tr>\n",
       "  </tbody>\n",
       "</table>\n",
       "</div>"
      ],
      "text/plain": [
       "               global_id                     created_at      mme_id  \\\n",
       "4928   WAR414356.BAFU3YN  2020-01-01T03:00:10.000-08:00  WAWA1.MMM3   \n",
       "7547   WAM416698.BAFU5ZE  2020-01-01T05:04:39.000-08:00  WAWA1.MMN8   \n",
       "7548   WAM416698.BAFU5ZF  2020-01-01T05:04:39.000-08:00  WAWA1.MMN8   \n",
       "8922   WAM416698.BAFU71L  2020-01-01T05:49:46.000-08:00  WAWA1.MMN8   \n",
       "15971  WAM412236.BAFUCHE  2020-01-02T00:09:36.000-08:00  WAWA1.MM4R   \n",
       "\n",
       "           user_id       external_id  is_parent_batch  is_child_batch     type  \n",
       "4928    WAWA1.USJY               NaN            False           False  harvest  \n",
       "7547   WAWA1.US363  4152220000008339            False           False  harvest  \n",
       "7548   WAWA1.US363  4152220000008331            False           False  harvest  \n",
       "8922   WAWA1.US363  4129040000007968            False           False  harvest  \n",
       "15971   WAWA1.US3C  4144300000000857            False           False  harvest  "
      ]
     },
     "execution_count": 34,
     "metadata": {},
     "output_type": "execute_result"
    }
   ],
   "source": [
    "df[(df['is_parent_batch'] == False) & (df['type'] == 'harvest') & (df['is_child_batch'] == False)].head()"
   ]
  }
 ],
 "metadata": {
  "kernelspec": {
   "display_name": "Python 3",
   "language": "python",
   "name": "python3"
  },
  "language_info": {
   "codemirror_mode": {
    "name": "ipython",
    "version": 3
   },
   "file_extension": ".py",
   "mimetype": "text/x-python",
   "name": "python",
   "nbconvert_exporter": "python",
   "pygments_lexer": "ipython3",
   "version": "3.7.10"
  }
 },
 "nbformat": 4,
 "nbformat_minor": 5
}
