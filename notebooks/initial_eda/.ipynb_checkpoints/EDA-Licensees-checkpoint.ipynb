{
 "cells": [
  {
   "cell_type": "code",
   "execution_count": 1,
   "id": "55d78d27",
   "metadata": {},
   "outputs": [],
   "source": [
    "import pprint\n",
    "import numpy as np\n",
    "import pandas as pd\n",
    "import matplotlib.pyplot as plt\n",
    "from scripts import datapipe\n",
    "from scripts import helper_functions\n",
    "plt.style.use('ggplot')"
   ]
  },
  {
   "cell_type": "code",
   "execution_count": 16,
   "id": "25a56d96",
   "metadata": {},
   "outputs": [],
   "source": [
    "q = '''SELECT global_id\n",
    "                    , created_at\n",
    "                    , external_id\n",
    "                    , name\n",
    "                    , type\n",
    "        FROM temp\n",
    "        WHERE created_at >= CAST(\"{}-{}-01\" AS DATE)\n",
    "            --AND type LIKE 'lab'\n",
    "    '''\n",
    "\n",
    "query = datapipe.SqlQuery(q, 1899, 1)\n",
    "path = '/media/austin/Ubuntu-2/postgres_i502/raw_data/I502/Licensees_0.csv'"
   ]
  },
  {
   "cell_type": "code",
   "execution_count": 18,
   "id": "9fd3d70f",
   "metadata": {},
   "outputs": [],
   "source": [
    "data = datapipe.DataPipe(path, query, 'licensees')"
   ]
  },
  {
   "cell_type": "code",
   "execution_count": 19,
   "id": "0354afd0",
   "metadata": {},
   "outputs": [],
   "source": [
    "df = pd.read_csv('/home/austin/code/dsi/capstone_1/licensees_year_Nonemonth_None.csv/part-00000-e336c06b-db61-472c-8357-de32b6d8a4df-c000.csv')"
   ]
  },
  {
   "cell_type": "code",
   "execution_count": 20,
   "id": "eb50acb5",
   "metadata": {},
   "outputs": [
    {
     "data": {
      "text/html": [
       "<div>\n",
       "<style scoped>\n",
       "    .dataframe tbody tr th:only-of-type {\n",
       "        vertical-align: middle;\n",
       "    }\n",
       "\n",
       "    .dataframe tbody tr th {\n",
       "        vertical-align: top;\n",
       "    }\n",
       "\n",
       "    .dataframe thead th {\n",
       "        text-align: right;\n",
       "    }\n",
       "</style>\n",
       "<table border=\"1\" class=\"dataframe\">\n",
       "  <thead>\n",
       "    <tr style=\"text-align: right;\">\n",
       "      <th></th>\n",
       "      <th>global_id</th>\n",
       "      <th>created_at</th>\n",
       "      <th>external_id</th>\n",
       "      <th>name</th>\n",
       "      <th>type</th>\n",
       "    </tr>\n",
       "  </thead>\n",
       "  <tbody>\n",
       "    <tr>\n",
       "      <th>0</th>\n",
       "      <td>WAWA1.MM1</td>\n",
       "      <td>1900-01-01T00:00:00.000-08:00</td>\n",
       "      <td>1</td>\n",
       "      <td>WA State</td>\n",
       "      <td>state</td>\n",
       "    </tr>\n",
       "    <tr>\n",
       "      <th>1</th>\n",
       "      <td>WAWA1.MM2</td>\n",
       "      <td>1900-01-01T00:00:00.000-08:00</td>\n",
       "      <td>1111</td>\n",
       "      <td>LCB Grow</td>\n",
       "      <td>cultivator</td>\n",
       "    </tr>\n",
       "    <tr>\n",
       "      <th>2</th>\n",
       "      <td>WAWA1.MM3</td>\n",
       "      <td>1900-01-01T00:00:00.000-08:00</td>\n",
       "      <td>2222</td>\n",
       "      <td>LCB Mfg</td>\n",
       "      <td>production</td>\n",
       "    </tr>\n",
       "    <tr>\n",
       "      <th>3</th>\n",
       "      <td>WAWA1.MM4</td>\n",
       "      <td>1900-01-01T00:00:00.000-08:00</td>\n",
       "      <td>3333</td>\n",
       "      <td>LCB Retail</td>\n",
       "      <td>dispensary</td>\n",
       "    </tr>\n",
       "    <tr>\n",
       "      <th>4</th>\n",
       "      <td>WAWA1.MM5</td>\n",
       "      <td>1900-01-01T00:00:00.000-08:00</td>\n",
       "      <td>4444</td>\n",
       "      <td>LCB Lab</td>\n",
       "      <td>lab</td>\n",
       "    </tr>\n",
       "  </tbody>\n",
       "</table>\n",
       "</div>"
      ],
      "text/plain": [
       "   global_id                     created_at external_id        name  \\\n",
       "0  WAWA1.MM1  1900-01-01T00:00:00.000-08:00           1    WA State   \n",
       "1  WAWA1.MM2  1900-01-01T00:00:00.000-08:00        1111    LCB Grow   \n",
       "2  WAWA1.MM3  1900-01-01T00:00:00.000-08:00        2222     LCB Mfg   \n",
       "3  WAWA1.MM4  1900-01-01T00:00:00.000-08:00        3333  LCB Retail   \n",
       "4  WAWA1.MM5  1900-01-01T00:00:00.000-08:00        4444     LCB Lab   \n",
       "\n",
       "         type  \n",
       "0       state  \n",
       "1  cultivator  \n",
       "2  production  \n",
       "3  dispensary  \n",
       "4         lab  "
      ]
     },
     "execution_count": 20,
     "metadata": {},
     "output_type": "execute_result"
    }
   ],
   "source": [
    "df.head()"
   ]
  },
  {
   "cell_type": "code",
   "execution_count": 21,
   "id": "e4fb8dea",
   "metadata": {},
   "outputs": [
    {
     "data": {
      "text/plain": [
       "cultivator_production    1424\n",
       "dispensary                765\n",
       "production                348\n",
       "cultivator                238\n",
       "co-op                      34\n",
       "transporter                28\n",
       "lab                        23\n",
       "tribe                      21\n",
       "state                       1\n",
       "Name: type, dtype: int64"
      ]
     },
     "execution_count": 21,
     "metadata": {},
     "output_type": "execute_result"
    }
   ],
   "source": [
    "df['type'].value_counts()"
   ]
  },
  {
   "cell_type": "code",
   "execution_count": 24,
   "id": "89309c56",
   "metadata": {},
   "outputs": [
    {
     "data": {
      "text/plain": [
       "4                              LCB Lab\n",
       "1908              Analytical 360, LLC.\n",
       "1909              Confidence Analytics\n",
       "1910              True Northwest, Inc.\n",
       "1911                     G.O.A.T. Labs\n",
       "1912                    Integrity Labs\n",
       "1913                   Steep Hill Labs\n",
       "1914                       Anatek Labs\n",
       "1915              Testing Technologies\n",
       "1916                 Green Grower Labs\n",
       "1917      Dragon Analytical Laboratory\n",
       "1918                   Trace Analytics\n",
       "1919                      HD Analytics\n",
       "1920          Medicine Creek Analytics\n",
       "1921            MOLECULAR TESTING LABS\n",
       "1922                  CAPITOL ANALYSIS\n",
       "2272                          mjf test\n",
       "2279                 Praxis Laboratory\n",
       "2496                Treeline Analytics\n",
       "2684                  Lab Attested Fix\n",
       "2685                  Lab Attested Fix\n",
       "2750             Atlas Agriscience LLC\n",
       "2777    Pacific Botanical Laboratories\n",
       "Name: name, dtype: object"
      ]
     },
     "execution_count": 24,
     "metadata": {},
     "output_type": "execute_result"
    }
   ],
   "source": [
    "df[df['type'] == 'lab']['name']"
   ]
  }
 ],
 "metadata": {
  "kernelspec": {
   "display_name": "Python 3",
   "language": "python",
   "name": "python3"
  },
  "language_info": {
   "codemirror_mode": {
    "name": "ipython",
    "version": 3
   },
   "file_extension": ".py",
   "mimetype": "text/x-python",
   "name": "python",
   "nbconvert_exporter": "python",
   "pygments_lexer": "ipython3",
   "version": "3.7.10"
  }
 },
 "nbformat": 4,
 "nbformat_minor": 5
}
